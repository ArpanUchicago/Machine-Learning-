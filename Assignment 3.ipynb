{
 "cells": [
  {
   "cell_type": "code",
   "execution_count": 133,
   "id": "f48405bd-8528-49af-9dfd-4147fe6f77c9",
   "metadata": {
    "tags": []
   },
   "outputs": [
    {
     "name": "stdout",
     "output_type": "stream",
     "text": [
      "Requirement already satisfied: pandas in c:\\users\\arpan\\anaconda3\\lib\\site-packages (2.0.3)\n",
      "Requirement already satisfied: python-dateutil>=2.8.2 in c:\\users\\arpan\\anaconda3\\lib\\site-packages (from pandas) (2.8.2)\n",
      "Requirement already satisfied: pytz>=2020.1 in c:\\users\\arpan\\anaconda3\\lib\\site-packages (from pandas) (2023.3.post1)\n",
      "Requirement already satisfied: tzdata>=2022.1 in c:\\users\\arpan\\anaconda3\\lib\\site-packages (from pandas) (2023.3)\n",
      "Requirement already satisfied: numpy>=1.21.0 in c:\\users\\arpan\\anaconda3\\lib\\site-packages (from pandas) (1.24.3)\n",
      "Requirement already satisfied: six>=1.5 in c:\\users\\arpan\\anaconda3\\lib\\site-packages (from python-dateutil>=2.8.2->pandas) (1.16.0)\n",
      "Note: you may need to restart the kernel to use updated packages.\n"
     ]
    }
   ],
   "source": [
    "pip install pandas\n"
   ]
  },
  {
   "cell_type": "code",
   "execution_count": 134,
   "id": "2e9f7917",
   "metadata": {
    "tags": []
   },
   "outputs": [
    {
     "data": {
      "text/html": [
       "<div>\n",
       "<style scoped>\n",
       "    .dataframe tbody tr th:only-of-type {\n",
       "        vertical-align: middle;\n",
       "    }\n",
       "\n",
       "    .dataframe tbody tr th {\n",
       "        vertical-align: top;\n",
       "    }\n",
       "\n",
       "    .dataframe thead th {\n",
       "        text-align: right;\n",
       "    }\n",
       "</style>\n",
       "<table border=\"1\" class=\"dataframe\">\n",
       "  <thead>\n",
       "    <tr style=\"text-align: right;\">\n",
       "      <th></th>\n",
       "      <th>0</th>\n",
       "      <th>1</th>\n",
       "      <th>2</th>\n",
       "      <th>3</th>\n",
       "      <th>4</th>\n",
       "      <th>5</th>\n",
       "      <th>6</th>\n",
       "      <th>7</th>\n",
       "      <th>8</th>\n",
       "      <th>9</th>\n",
       "      <th>10</th>\n",
       "      <th>11</th>\n",
       "      <th>12</th>\n",
       "      <th>13</th>\n",
       "      <th>14</th>\n",
       "    </tr>\n",
       "  </thead>\n",
       "  <tbody>\n",
       "    <tr>\n",
       "      <th>0</th>\n",
       "      <td>39</td>\n",
       "      <td>State-gov</td>\n",
       "      <td>77516</td>\n",
       "      <td>Bachelors</td>\n",
       "      <td>13</td>\n",
       "      <td>Never-married</td>\n",
       "      <td>Adm-clerical</td>\n",
       "      <td>Not-in-family</td>\n",
       "      <td>White</td>\n",
       "      <td>Male</td>\n",
       "      <td>2174</td>\n",
       "      <td>0</td>\n",
       "      <td>40</td>\n",
       "      <td>United-States</td>\n",
       "      <td>&lt;=50K</td>\n",
       "    </tr>\n",
       "    <tr>\n",
       "      <th>1</th>\n",
       "      <td>50</td>\n",
       "      <td>Self-emp-not-inc</td>\n",
       "      <td>83311</td>\n",
       "      <td>Bachelors</td>\n",
       "      <td>13</td>\n",
       "      <td>Married-civ-spouse</td>\n",
       "      <td>Exec-managerial</td>\n",
       "      <td>Husband</td>\n",
       "      <td>White</td>\n",
       "      <td>Male</td>\n",
       "      <td>0</td>\n",
       "      <td>0</td>\n",
       "      <td>13</td>\n",
       "      <td>United-States</td>\n",
       "      <td>&lt;=50K</td>\n",
       "    </tr>\n",
       "    <tr>\n",
       "      <th>2</th>\n",
       "      <td>38</td>\n",
       "      <td>Private</td>\n",
       "      <td>215646</td>\n",
       "      <td>HS-grad</td>\n",
       "      <td>9</td>\n",
       "      <td>Divorced</td>\n",
       "      <td>Handlers-cleaners</td>\n",
       "      <td>Not-in-family</td>\n",
       "      <td>White</td>\n",
       "      <td>Male</td>\n",
       "      <td>0</td>\n",
       "      <td>0</td>\n",
       "      <td>40</td>\n",
       "      <td>United-States</td>\n",
       "      <td>&lt;=50K</td>\n",
       "    </tr>\n",
       "    <tr>\n",
       "      <th>3</th>\n",
       "      <td>53</td>\n",
       "      <td>Private</td>\n",
       "      <td>234721</td>\n",
       "      <td>11th</td>\n",
       "      <td>7</td>\n",
       "      <td>Married-civ-spouse</td>\n",
       "      <td>Handlers-cleaners</td>\n",
       "      <td>Husband</td>\n",
       "      <td>Black</td>\n",
       "      <td>Male</td>\n",
       "      <td>0</td>\n",
       "      <td>0</td>\n",
       "      <td>40</td>\n",
       "      <td>United-States</td>\n",
       "      <td>&lt;=50K</td>\n",
       "    </tr>\n",
       "    <tr>\n",
       "      <th>4</th>\n",
       "      <td>28</td>\n",
       "      <td>Private</td>\n",
       "      <td>338409</td>\n",
       "      <td>Bachelors</td>\n",
       "      <td>13</td>\n",
       "      <td>Married-civ-spouse</td>\n",
       "      <td>Prof-specialty</td>\n",
       "      <td>Wife</td>\n",
       "      <td>Black</td>\n",
       "      <td>Female</td>\n",
       "      <td>0</td>\n",
       "      <td>0</td>\n",
       "      <td>40</td>\n",
       "      <td>Cuba</td>\n",
       "      <td>&lt;=50K</td>\n",
       "    </tr>\n",
       "  </tbody>\n",
       "</table>\n",
       "</div>"
      ],
      "text/plain": [
       "   0                  1       2           3   4                    5   \\\n",
       "0  39          State-gov   77516   Bachelors  13        Never-married   \n",
       "1  50   Self-emp-not-inc   83311   Bachelors  13   Married-civ-spouse   \n",
       "2  38            Private  215646     HS-grad   9             Divorced   \n",
       "3  53            Private  234721        11th   7   Married-civ-spouse   \n",
       "4  28            Private  338409   Bachelors  13   Married-civ-spouse   \n",
       "\n",
       "                   6               7       8        9     10  11  12  \\\n",
       "0        Adm-clerical   Not-in-family   White     Male  2174   0  40   \n",
       "1     Exec-managerial         Husband   White     Male     0   0  13   \n",
       "2   Handlers-cleaners   Not-in-family   White     Male     0   0  40   \n",
       "3   Handlers-cleaners         Husband   Black     Male     0   0  40   \n",
       "4      Prof-specialty            Wife   Black   Female     0   0  40   \n",
       "\n",
       "               13      14  \n",
       "0   United-States   <=50K  \n",
       "1   United-States   <=50K  \n",
       "2   United-States   <=50K  \n",
       "3   United-States   <=50K  \n",
       "4            Cuba   <=50K  "
      ]
     },
     "execution_count": 94,
     "metadata": {},
     "output_type": "execute_result"
    }
   ],
   "source": [
    "import pandas as pd\n",
    "file_path = \"adult.data\"\n",
    "df = pd.read_csv(file_path, header=None)\n",
    "df.head()\n"
   ]
  },
  {
   "cell_type": "code",
   "execution_count": 135,
   "id": "0e59f662-4604-479a-909a-0366e5003c62",
   "metadata": {
    "tags": []
   },
   "outputs": [],
   "source": [
    "# Build a list of column names based on the information in the link\n",
    "column_names = [\n",
    "    \"age\", \"workclass\", \"fnlwgt\", \"education\", \"education_num\", \"marital_status\",\n",
    "    \"occupation\", \"relationship\", \"race\", \"sex\", \"capital_gain\", \"capital_loss\",\n",
    "    \"hours_per_week\", \"native_country\", \"salary\"\n",
    "]\n",
    "\n",
    "# Assign column names to the DataFrame\n",
    "df.columns = column_names\n"
   ]
  },
  {
   "cell_type": "code",
   "execution_count": 136,
   "id": "82b269bb-a79f-4b7e-a552-501fb5971285",
   "metadata": {
    "tags": []
   },
   "outputs": [
    {
     "name": "stdout",
     "output_type": "stream",
     "text": [
      "(32561, 15)\n"
     ]
    },
    {
     "data": {
      "text/plain": [
       "(32561,)"
      ]
     },
     "execution_count": 136,
     "metadata": {},
     "output_type": "execute_result"
    }
   ],
   "source": [
    "# Check the shape of the DataFrame\n",
    "print(df.shape)\n",
    "# Drop the 3rd column from the DataFrame\n",
    "df.drop(columns=['fnlwgt'], inplace=True)\n",
    "# Replace values in the \"salary\" column\n",
    "df['salary'].replace({'<=50K': 0, '>50K': 1}, inplace=True)\n",
    "# Create X dataframe (predictors)\n",
    "X = df.drop(columns=['salary'])\n",
    "X.shape\n",
    "# Create y dataframe (target variable)\n",
    "y = df['salary']\n",
    "y.shape"
   ]
  },
  {
   "cell_type": "code",
   "execution_count": 137,
   "id": "96d9635f-531f-4c62-a338-0a915028b37b",
   "metadata": {
    "tags": []
   },
   "outputs": [
    {
     "data": {
      "text/plain": [
       "(32561, 107)"
      ]
     },
     "execution_count": 137,
     "metadata": {},
     "output_type": "execute_result"
    }
   ],
   "source": [
    "# Perform one-hot encoding on the entire X dataframe\n",
    "X_encoded = pd.get_dummies(X)\n",
    "X_encoded.shape\n"
   ]
  },
  {
   "cell_type": "code",
   "execution_count": 138,
   "id": "8d0e2fa2-eeb6-4faa-9c2e-e6d4fa0ec470",
   "metadata": {
    "tags": []
   },
   "outputs": [
    {
     "name": "stdout",
     "output_type": "stream",
     "text": [
      "Number of columns in X_train: 107\n",
      "Number of columns in X_test: 107\n"
     ]
    }
   ],
   "source": [
    "from sklearn.model_selection import train_test_split\n",
    "\n",
    "# Split data into train and test sets\n",
    "X_train, X_test, y_train, y_test = train_test_split(X_encoded, y, test_size=0.3, random_state=42)\n",
    "\n",
    "# Verify the number of columns in X_train and X_test\n",
    "print(\"Number of columns in X_train:\", X_train.shape[1])\n",
    "print(\"Number of columns in X_test:\", X_test.shape[1])"
   ]
  },
  {
   "cell_type": "markdown",
   "id": "fe409be2-bdab-4e48-918e-26262ef07f70",
   "metadata": {},
   "source": [
    "#2. Random Forest Classifier - Base Model:"
   ]
  },
  {
   "cell_type": "code",
   "execution_count": 107,
   "id": "5456529a-cfcf-4699-87b1-fd2cda178bf2",
   "metadata": {
    "tags": []
   },
   "outputs": [
    {
     "data": {
      "text/html": [
       "<style>#sk-container-id-2 {color: black;}#sk-container-id-2 pre{padding: 0;}#sk-container-id-2 div.sk-toggleable {background-color: white;}#sk-container-id-2 label.sk-toggleable__label {cursor: pointer;display: block;width: 100%;margin-bottom: 0;padding: 0.3em;box-sizing: border-box;text-align: center;}#sk-container-id-2 label.sk-toggleable__label-arrow:before {content: \"▸\";float: left;margin-right: 0.25em;color: #696969;}#sk-container-id-2 label.sk-toggleable__label-arrow:hover:before {color: black;}#sk-container-id-2 div.sk-estimator:hover label.sk-toggleable__label-arrow:before {color: black;}#sk-container-id-2 div.sk-toggleable__content {max-height: 0;max-width: 0;overflow: hidden;text-align: left;background-color: #f0f8ff;}#sk-container-id-2 div.sk-toggleable__content pre {margin: 0.2em;color: black;border-radius: 0.25em;background-color: #f0f8ff;}#sk-container-id-2 input.sk-toggleable__control:checked~div.sk-toggleable__content {max-height: 200px;max-width: 100%;overflow: auto;}#sk-container-id-2 input.sk-toggleable__control:checked~label.sk-toggleable__label-arrow:before {content: \"▾\";}#sk-container-id-2 div.sk-estimator input.sk-toggleable__control:checked~label.sk-toggleable__label {background-color: #d4ebff;}#sk-container-id-2 div.sk-label input.sk-toggleable__control:checked~label.sk-toggleable__label {background-color: #d4ebff;}#sk-container-id-2 input.sk-hidden--visually {border: 0;clip: rect(1px 1px 1px 1px);clip: rect(1px, 1px, 1px, 1px);height: 1px;margin: -1px;overflow: hidden;padding: 0;position: absolute;width: 1px;}#sk-container-id-2 div.sk-estimator {font-family: monospace;background-color: #f0f8ff;border: 1px dotted black;border-radius: 0.25em;box-sizing: border-box;margin-bottom: 0.5em;}#sk-container-id-2 div.sk-estimator:hover {background-color: #d4ebff;}#sk-container-id-2 div.sk-parallel-item::after {content: \"\";width: 100%;border-bottom: 1px solid gray;flex-grow: 1;}#sk-container-id-2 div.sk-label:hover label.sk-toggleable__label {background-color: #d4ebff;}#sk-container-id-2 div.sk-serial::before {content: \"\";position: absolute;border-left: 1px solid gray;box-sizing: border-box;top: 0;bottom: 0;left: 50%;z-index: 0;}#sk-container-id-2 div.sk-serial {display: flex;flex-direction: column;align-items: center;background-color: white;padding-right: 0.2em;padding-left: 0.2em;position: relative;}#sk-container-id-2 div.sk-item {position: relative;z-index: 1;}#sk-container-id-2 div.sk-parallel {display: flex;align-items: stretch;justify-content: center;background-color: white;position: relative;}#sk-container-id-2 div.sk-item::before, #sk-container-id-2 div.sk-parallel-item::before {content: \"\";position: absolute;border-left: 1px solid gray;box-sizing: border-box;top: 0;bottom: 0;left: 50%;z-index: -1;}#sk-container-id-2 div.sk-parallel-item {display: flex;flex-direction: column;z-index: 1;position: relative;background-color: white;}#sk-container-id-2 div.sk-parallel-item:first-child::after {align-self: flex-end;width: 50%;}#sk-container-id-2 div.sk-parallel-item:last-child::after {align-self: flex-start;width: 50%;}#sk-container-id-2 div.sk-parallel-item:only-child::after {width: 0;}#sk-container-id-2 div.sk-dashed-wrapped {border: 1px dashed gray;margin: 0 0.4em 0.5em 0.4em;box-sizing: border-box;padding-bottom: 0.4em;background-color: white;}#sk-container-id-2 div.sk-label label {font-family: monospace;font-weight: bold;display: inline-block;line-height: 1.2em;}#sk-container-id-2 div.sk-label-container {text-align: center;}#sk-container-id-2 div.sk-container {/* jupyter's `normalize.less` sets `[hidden] { display: none; }` but bootstrap.min.css set `[hidden] { display: none !important; }` so we also need the `!important` here to be able to override the default hidden behavior on the sphinx rendered scikit-learn.org. See: https://github.com/scikit-learn/scikit-learn/issues/21755 */display: inline-block !important;position: relative;}#sk-container-id-2 div.sk-text-repr-fallback {display: none;}</style><div id=\"sk-container-id-2\" class=\"sk-top-container\"><div class=\"sk-text-repr-fallback\"><pre>RandomForestClassifier()</pre><b>In a Jupyter environment, please rerun this cell to show the HTML representation or trust the notebook. <br />On GitHub, the HTML representation is unable to render, please try loading this page with nbviewer.org.</b></div><div class=\"sk-container\" hidden><div class=\"sk-item\"><div class=\"sk-estimator sk-toggleable\"><input class=\"sk-toggleable__control sk-hidden--visually\" id=\"sk-estimator-id-2\" type=\"checkbox\" checked><label for=\"sk-estimator-id-2\" class=\"sk-toggleable__label sk-toggleable__label-arrow\">RandomForestClassifier</label><div class=\"sk-toggleable__content\"><pre>RandomForestClassifier()</pre></div></div></div></div></div>"
      ],
      "text/plain": [
       "RandomForestClassifier()"
      ]
     },
     "execution_count": 107,
     "metadata": {},
     "output_type": "execute_result"
    }
   ],
   "source": [
    "from sklearn.ensemble import RandomForestClassifier\n",
    "\n",
    "# Create and fit the RandomForestClassifier model\n",
    "rf_model = RandomForestClassifier()\n",
    "rf_model.fit(X_train, y_train)\n"
   ]
  },
  {
   "cell_type": "code",
   "execution_count": 108,
   "id": "fa41124f-a903-4fca-b2b5-eab3ae6080d1",
   "metadata": {
    "tags": []
   },
   "outputs": [],
   "source": [
    "# Predicting probabilities and classes for test data\n",
    "y_pred_proba = rf_model.predict_proba(X_test)\n",
    "y_pred = rf_model.predict(X_test)\n"
   ]
  },
  {
   "cell_type": "code",
   "execution_count": 109,
   "id": "eb24ee1d-3694-4ad8-9ff4-8cd83eefbc12",
   "metadata": {
    "tags": []
   },
   "outputs": [
    {
     "name": "stdout",
     "output_type": "stream",
     "text": [
      "Confusion Matrix:\n",
      "[[6850  605]\n",
      " [ 867 1447]]\n",
      "\n",
      "Classification Report:\n",
      "              precision    recall  f1-score   support\n",
      "\n",
      "       <=50K       0.89      0.92      0.90      7455\n",
      "        >50K       0.71      0.63      0.66      2314\n",
      "\n",
      "    accuracy                           0.85      9769\n",
      "   macro avg       0.80      0.77      0.78      9769\n",
      "weighted avg       0.84      0.85      0.85      9769\n",
      "\n"
     ]
    }
   ],
   "source": [
    "from sklearn.metrics import confusion_matrix, classification_report\n",
    "\n",
    "# Calculating confusion matrix\n",
    "conf_matrix = confusion_matrix(y_test, y_pred)\n",
    "print(\"Confusion Matrix:\")\n",
    "print(conf_matrix)\n",
    "\n",
    "# Classification report\n",
    "class_report = classification_report(y_test, y_pred)\n",
    "print(\"\\nClassification Report:\")\n",
    "print(class_report)\n"
   ]
  },
  {
   "cell_type": "code",
   "execution_count": 110,
   "id": "65e8c5fb-a65d-4431-929a-9aab0505a1e5",
   "metadata": {
    "tags": []
   },
   "outputs": [
    {
     "name": "stdout",
     "output_type": "stream",
     "text": [
      "\n",
      "AUC Score: 0.8898574970421783\n"
     ]
    }
   ],
   "source": [
    "from sklearn.metrics import roc_auc_score\n",
    "\n",
    "# Calculate AUC score\n",
    "auc_score = roc_auc_score(y_test, y_pred_proba[:, 1])\n",
    "print(\"\\nAUC Score:\", auc_score)\n"
   ]
  },
  {
   "cell_type": "code",
   "execution_count": 111,
   "id": "03d43fe3",
   "metadata": {
    "tags": []
   },
   "outputs": [
    {
     "data": {
      "image/png": "[encoded data removed]",
      "text/plain": [
       "<Figure size 800x400 with 1 Axes>"
      ]
     },
     "metadata": {},
     "output_type": "display_data"
    }
   ],
   "source": [
    "import matplotlib.pyplot as plt\n",
    "\n",
    "# Get feature importances\n",
    "feature_importances = rf_model.feature_importances_\n",
    "\n",
    "# Get indices of top 5 features\n",
    "top_indices = feature_importances.argsort()[-5:][::-1]\n",
    "\n",
    "# Get top 5 feature names and their importances\n",
    "top_features = X_train.columns[top_indices]\n",
    "top_importances = feature_importances[top_indices]\n",
    "\n",
    "# Plot top 5 features\n",
    "plt.figure(figsize=(8, 4))\n",
    "plt.barh(top_features, top_importances, color='skyblue')\n",
    "plt.xlabel('Feature Importance')\n",
    "plt.ylabel('Feature')\n",
    "plt.title('Top 5 Features Importance')\n",
    "plt.gca().invert_yaxis()  # Invert y-axis to display top features at the top\n",
    "plt.show()\n"
   ]
  },
  {
   "cell_type": "code",
   "execution_count": 112,
   "id": "4eff6012-a5f7-4afb-bbc3-aecb0632c1c0",
   "metadata": {
    "tags": []
   },
   "outputs": [
    {
     "name": "stdout",
     "output_type": "stream",
     "text": [
      "Classification Report for Train Data:\n",
      "              precision    recall  f1-score   support\n",
      "\n",
      "       <=50K       0.98      0.99      0.99     17265\n",
      "        >50K       0.97      0.95      0.96      5527\n",
      "\n",
      "    accuracy                           0.98     22792\n",
      "   macro avg       0.98      0.97      0.97     22792\n",
      "weighted avg       0.98      0.98      0.98     22792\n",
      "\n"
     ]
    }
   ],
   "source": [
    "from sklearn.metrics import classification_report\n",
    "\n",
    "# Predicting for train data\n",
    "train_predictions = rf_model.predict(X_train)\n",
    "\n",
    "# Classification report for train data\n",
    "print(\"Classification Report for Train Data:\")\n",
    "print(classification_report(y_train, train_predictions))\n"
   ]
  },
  {
   "cell_type": "code",
   "execution_count": 21,
   "id": "362ce597-4bf8-43c3-93fd-c6db116ccc02",
   "metadata": {
    "tags": []
   },
   "outputs": [],
   "source": [
    "# Using the fitted model to predict on the test data\n",
    "y_pred_test = rf_model.predict(X_test)\n",
    "\n",
    "# Calculating the predicted probabilities for each class\n",
    "y_pred_proba_test = rf_model.predict_proba(X_test)\n",
    "\n",
    "# Getting the predicted classes\n",
    "predicted_classes = rf_model.classes_"
   ]
  },
  {
   "cell_type": "code",
   "execution_count": 22,
   "id": "0d39b117-83b2-437b-88d4-3cb3e84ae3fb",
   "metadata": {
    "tags": []
   },
   "outputs": [
    {
     "name": "stdout",
     "output_type": "stream",
     "text": [
      "              precision    recall  f1-score   support\n",
      "\n",
      "       <=50K       0.89      0.92      0.90      7455\n",
      "        >50K       0.70      0.63      0.66      2314\n",
      "\n",
      "    accuracy                           0.85      9769\n",
      "   macro avg       0.79      0.77      0.78      9769\n",
      "weighted avg       0.84      0.85      0.85      9769\n",
      "\n"
     ]
    }
   ],
   "source": [
    "from sklearn.metrics import classification_report\n",
    "\n",
    "# Generate a classification report for the test data\n",
    "print(classification_report(y_test, y_pred_test))\n"
   ]
  },
  {
   "cell_type": "markdown",
   "id": "4daa50ed-91cb-4f8e-bcfb-828378f046c0",
   "metadata": {},
   "source": [
    "### Yes, there is indication of overfitting for the RandomForest model.Test score dropped significantly."
   ]
  },
  {
   "cell_type": "code",
   "execution_count": 24,
   "id": "79bcb9e5-3ace-4df8-9569-3d06026250ba",
   "metadata": {},
   "outputs": [],
   "source": [
    "###3. AdaBoost Classifier - GridSearch:"
   ]
  },
  {
   "cell_type": "code",
   "execution_count": 25,
   "id": "bb312537-6751-4036-b166-33f9438ccbe5",
   "metadata": {
    "tags": []
   },
   "outputs": [
    {
     "name": "stdout",
     "output_type": "stream",
     "text": [
      "Best Parameters: {'learning_rate': 1.2, 'n_estimators': 400}\n",
      "Best Estimator: AdaBoostClassifier(learning_rate=1.2, n_estimators=400)\n"
     ]
    }
   ],
   "source": [
    "from sklearn.ensemble import AdaBoostClassifier\n",
    "from sklearn.model_selection import GridSearchCV\n",
    "\n",
    "# AdaBoostClassifier\n",
    "adaboost = AdaBoostClassifier()\n",
    "\n",
    "# Parameter grid\n",
    "param_grid = {\n",
    "    'n_estimators': [100, 200, 300, 400],\n",
    "    'learning_rate': [0.2, 0.4, 0.6, 0.8, 1, 1.2]\n",
    "}\n",
    "\n",
    "#GridSearchCV\n",
    "grid_search = GridSearchCV(adaboost, param_grid, cv=5, scoring='roc_auc')\n",
    "grid_search.fit(X_train, y_train)\n",
    "\n",
    "# Getting the best parameters and best estimator\n",
    "best_params = grid_search.best_params_\n",
    "best_estimator = grid_search.best_estimator_\n",
    "\n",
    "print(\"Best Parameters:\", best_params)\n",
    "print(\"Best Estimator:\", best_estimator)\n"
   ]
  },
  {
   "cell_type": "code",
   "execution_count": 26,
   "id": "570ec30c-5df5-4321-83bd-8ba47557168f",
   "metadata": {
    "tags": []
   },
   "outputs": [],
   "source": [
    "# Predicting on test data\n",
    "y_pred_proba = best_estimator.predict_proba(X_test)\n",
    "y_pred = best_estimator.predict(X_test)\n"
   ]
  },
  {
   "cell_type": "code",
   "execution_count": 27,
   "id": "3b32111e-4437-416a-b863-186ca2d25bd2",
   "metadata": {
    "tags": []
   },
   "outputs": [
    {
     "name": "stdout",
     "output_type": "stream",
     "text": [
      "Confusion Matrix:\n",
      " [[7008  447]\n",
      " [ 807 1507]]\n",
      "Classification Report:\n",
      "               precision    recall  f1-score   support\n",
      "\n",
      "       <=50K       0.90      0.94      0.92      7455\n",
      "        >50K       0.77      0.65      0.71      2314\n",
      "\n",
      "    accuracy                           0.87      9769\n",
      "   macro avg       0.83      0.80      0.81      9769\n",
      "weighted avg       0.87      0.87      0.87      9769\n",
      "\n"
     ]
    }
   ],
   "source": [
    "from sklearn.metrics import confusion_matrix, classification_report\n",
    "\n",
    "# Confusion matrix\n",
    "conf_matrix = confusion_matrix(y_test, y_pred)\n",
    "print(\"Confusion Matrix:\\n\", conf_matrix)\n",
    "\n",
    "# Classification report\n",
    "class_report = classification_report(y_test, y_pred)\n",
    "print(\"Classification Report:\\n\", class_report)\n"
   ]
  },
  {
   "cell_type": "code",
   "execution_count": 28,
   "id": "d9c63254-83c3-4c4c-bb83-8bc222420e32",
   "metadata": {
    "tags": []
   },
   "outputs": [
    {
     "name": "stdout",
     "output_type": "stream",
     "text": [
      "AUC Score: 0.9244122180504519\n"
     ]
    }
   ],
   "source": [
    "from sklearn.metrics import roc_auc_score\n",
    "\n",
    "# Calculate AUC score\n",
    "auc_score = roc_auc_score(y_test, y_pred_proba[:, 1])\n",
    "print(\"AUC Score:\", auc_score)\n"
   ]
  },
  {
   "cell_type": "code",
   "execution_count": 47,
   "id": "cc2090fd",
   "metadata": {
    "tags": []
   },
   "outputs": [
    {
     "data": {
      "image/png": "[encoded data removed]",
      "text/plain": [
       "<Figure size 800x400 with 1 Axes>"
      ]
     },
     "metadata": {},
     "output_type": "display_data"
    }
   ],
   "source": [
    "import matplotlib.pyplot as plt\n",
    "\n",
    "#  feature importance scores\n",
    "feature_importances = best_estimator.feature_importances_\n",
    "cc\n",
    "top5_features = X_train.columns[top5_indices]\n",
    "\n",
    "# Plot top 5 features\n",
    "plt.figure(figsize=(8, 4))\n",
    "plt.barh(range(len(top5_features)), feature_importances[top5_indices], align='center')\n",
    "plt.yticks(range(len(top5_features)), top5_features)\n",
    "plt.xlabel('Feature Importance')\n",
    "plt.title('Top 5 Features')\n",
    "plt.gca().invert_yaxis()  # Invert y-axis to display top feature at the top\n",
    "plt.show()\n"
   ]
  },
  {
   "cell_type": "markdown",
   "id": "d74059ad-562c-4b74-b67c-a038c192a6ac",
   "metadata": {},
   "source": [
    "## Yes, there is some level of overfitting. Decrease in precision, recall and F-1 score for both classes."
   ]
  },
  {
   "cell_type": "code",
   "execution_count": null,
   "id": "086bbf62-82fd-4b58-b7b2-25b2bd75e4fb",
   "metadata": {},
   "outputs": [],
   "source": []
  },
  {
   "cell_type": "markdown",
   "id": "d440d458-147f-4425-9aa5-fa0143c3e6dc",
   "metadata": {},
   "source": [
    "#4. Gradient Boosting Classifier - GridSearch:"
   ]
  },
  {
   "cell_type": "code",
   "execution_count": 34,
   "id": "68473e12-0577-421e-961b-e98b0c46ec6e",
   "metadata": {
    "tags": []
   },
   "outputs": [],
   "source": [
    "#a)from sklearn.ensemble import GradientBoostingClassifier\n",
    "from sklearn.model_selection import GridSearchCV\n",
    "from sklearn.metrics import confusion_matrix, classification_report, roc_auc_score\n",
    "import pandas as pd\n",
    "\n",
    "# Defining the hyperparameters to search over\n",
    "param_grid = {\n",
    "    'n_estimators': [100, 200],\n",
    "    'learning_rate': [0.1, 0.05, 0.01],\n",
    "    'max_depth': [1, 2]\n",
    "}\n",
    "\n",
    "# Initializing\n",
    "gb_classifier = GradientBoostingClassifier()\n",
    "\n",
    "# Initializing\n",
    "grid_search = GridSearchCV(gb_classifier, param_grid, scoring='roc_auc', cv=5)\n",
    "\n",
    "# Fitting GridSearchCV on training data\n",
    "grid_search.fit(X_train, y_train)\n",
    "\n",
    "# Getting the best estimator\n",
    "best_estimator = grid_search.best_estimator_\n",
    "\n"
   ]
  },
  {
   "cell_type": "code",
   "execution_count": 40,
   "id": "b57ef80c-0fc3-4181-a492-7cdba9ff3fa4",
   "metadata": {
    "tags": []
   },
   "outputs": [
    {
     "name": "stdout",
     "output_type": "stream",
     "text": [
      "Best Parameters: {'learning_rate': 0.1, 'max_depth': 2, 'n_estimators': 200}\n",
      "Best Score (ROC AUC): 0.9201908189949538\n"
     ]
    }
   ],
   "source": [
    "print(\"Best Parameters:\", grid_search.best_params_)\n",
    "print(\"Best Score (ROC AUC):\", grid_search.best_score_)"
   ]
  },
  {
   "cell_type": "code",
   "execution_count": 35,
   "id": "f409e575-590d-498a-abb1-15e64b98d009",
   "metadata": {
    "tags": []
   },
   "outputs": [],
   "source": [
    "#B. Predicting probabilities and classes for test data\n",
    "y_pred_proba = best_estimator.predict_proba(X_test)\n",
    "y_pred_class = best_estimator.predict(X_test)\n"
   ]
  },
  {
   "cell_type": "code",
   "execution_count": 41,
   "id": "a525aa2a-05e3-4bf0-92d5-afa5024ef126",
   "metadata": {
    "tags": []
   },
   "outputs": [
    {
     "name": "stdout",
     "output_type": "stream",
     "text": [
      "Confusion Matrix:\n",
      "[[7052  403]\n",
      " [ 900 1414]]\n",
      "\n",
      "Classification Report:\n",
      "              precision    recall  f1-score   support\n",
      "\n",
      "       <=50K       0.89      0.95      0.92      7455\n",
      "        >50K       0.78      0.61      0.68      2314\n",
      "\n",
      "    accuracy                           0.87      9769\n",
      "   macro avg       0.83      0.78      0.80      9769\n",
      "weighted avg       0.86      0.87      0.86      9769\n",
      "\n"
     ]
    }
   ],
   "source": [
    "#C. Calculating confusion matrix and classification report\n",
    "conf_matrix = confusion_matrix(y_test, y_pred_class)\n",
    "class_report = classification_report(y_test, y_pred_class)\n",
    "print(\"Confusion Matrix:\")\n",
    "print(conf_matrix)\n",
    "print(\"\\nClassification Report:\")\n",
    "print(class_report)"
   ]
  },
  {
   "cell_type": "code",
   "execution_count": 64,
   "id": "20e84a05-36ee-4782-9924-cbc1da78d51b",
   "metadata": {
    "tags": []
   },
   "outputs": [
    {
     "name": "stdout",
     "output_type": "stream",
     "text": [
      "AUC Score: 0.9190108382939527\n"
     ]
    }
   ],
   "source": [
    "#D. Calculating AUC score\n",
    "auc_score = roc_auc_score(y_test, y_pred_proba[:, 1])\n",
    "# Print AUC score\n",
    "print(\"AUC Score:\", auc_score)"
   ]
  },
  {
   "cell_type": "code",
   "execution_count": 68,
   "id": "3e540a9e-f233-469e-ba0d-e05f62e45730",
   "metadata": {
    "tags": []
   },
   "outputs": [
    {
     "data": {
      "image/png": "[encoded data removed]",
      "text/plain": [
       "<Figure size 1000x600 with 1 Axes>"
      ]
     },
     "metadata": {},
     "output_type": "display_data"
    }
   ],
   "source": [
    "import matplotlib.pyplot as plt\n",
    "\n",
    "# Get feature importances\n",
    "feature_importances = best_estimator.feature_importances_\n",
    "\n",
    "# Get top 5 features\n",
    "top_features = sorted(zip(feature_importances, X_train.columns), reverse=True)[:5]\n",
    "top_feature_names = [feature[1] for feature in top_features]\n",
    "top_feature_importances = [feature[0] for feature in top_features]\n",
    "\n",
    "# Plot feature importance\n",
    "plt.figure(figsize=(10, 6))\n",
    "plt.barh(range(len(top_feature_importances)), top_feature_importances, align='center')\n",
    "plt.yticks(range(len(top_feature_importances)), top_feature_names)\n",
    "plt.xlabel('Feature Importance')\n",
    "plt.ylabel('Feature')\n",
    "plt.title('Top 5 Features')\n",
    "plt.show()\n"
   ]
  },
  {
   "cell_type": "code",
   "execution_count": 85,
   "id": "25c53ad5-16d4-4e66-8156-8135cf0c6ff7",
   "metadata": {
    "tags": []
   },
   "outputs": [
    {
     "name": "stdout",
     "output_type": "stream",
     "text": [
      "Classification Report for Train Data:\n",
      "              precision    recall  f1-score   support\n",
      "\n",
      "       <=50K       0.89      0.95      0.92     17265\n",
      "        >50K       0.79      0.62      0.69      5527\n",
      "\n",
      "    accuracy                           0.87     22792\n",
      "   macro avg       0.84      0.78      0.80     22792\n",
      "weighted avg       0.86      0.87      0.86     22792\n",
      "\n"
     ]
    }
   ],
   "source": [
    "#F. Predict for train data\n",
    "y_train_pred = best_estimator.predict(X_train)\n",
    "class_report_train = classification_report(y_train, y_train_pred)\n",
    "# Print classification report for train data\n",
    "print(\"Classification Report for Train Data:\")\n",
    "print(class_report_train)"
   ]
  },
  {
   "cell_type": "markdown",
   "id": "424c0631-d34e-4001-9424-efce93f737e8",
   "metadata": {},
   "source": [
    "## Training score is slighly high. So,there is a sign of overfitting, but not severe. "
   ]
  },
  {
   "cell_type": "markdown",
   "id": "ea1490cd-67ad-4523-a6e7-a332102b79de",
   "metadata": {},
   "source": [
    "### 5. XGBoost - RandomizedSearchCV (I have atatched a separate file for this portion.....)"
   ]
  }
 ],
 "metadata": {
  "kernelspec": {
   "display_name": "Python 3 (ipykernel)",
   "language": "python",
   "name": "python3"
  },
  "language_info": {
   "codemirror_mode": {
    "name": "ipython",
    "version": 3
   },
   "file_extension": ".py",
   "mimetype": "text/x-python",
   "name": "python",
   "nbconvert_exporter": "python",
   "pygments_lexer": "ipython3",
   "version": "3.11.5"
  }
 },
 "nbformat": 4,
 "nbformat_minor": 5
}
